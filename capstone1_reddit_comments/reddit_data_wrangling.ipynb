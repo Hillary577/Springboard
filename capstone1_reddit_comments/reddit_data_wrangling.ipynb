{
 "cells": [
  {
   "cell_type": "code",
   "execution_count": 1,
   "metadata": {},
   "outputs": [],
   "source": [
    "# Preprocessing reddit data for sentiment analysis (Capstone 1)\n",
    "# import necessary libraries\n",
    "import pandas as pd\n",
    "import matplotlib.pyplot as plt\n",
    "import seaborn as sns\n",
    "import os\n",
    "# from library.sb_utils import save_file\n",
    "\n",
    "red = pd.read_csv('Reddit_data.csv')"
   ]
  },
  {
   "cell_type": "code",
   "execution_count": 2,
   "metadata": {},
   "outputs": [
    {
     "name": "stdout",
     "output_type": "stream",
     "text": [
      "                                           clean_comment  category\n",
      "0       family mormon have never tried explain them t...         1\n",
      "1      buddhism has very much lot compatible with chr...         1\n",
      "2      seriously don say thing first all they won get...        -1\n",
      "3      what you have learned yours and only yours wha...         0\n",
      "4      for your own benefit you may want read living ...         1\n",
      "...                                                  ...       ...\n",
      "37244                                              jesus         0\n",
      "37245  kya bhai pure saal chutiya banaya modi aur jab...         1\n",
      "37246              downvote karna tha par upvote hogaya          0\n",
      "37247                                         haha nice          1\n",
      "37248             facebook itself now working bjp’ cell          0\n",
      "\n",
      "[37249 rows x 2 columns]\n"
     ]
    }
   ],
   "source": [
    "print(red)"
   ]
  },
  {
   "cell_type": "code",
   "execution_count": 3,
   "metadata": {},
   "outputs": [
    {
     "data": {
      "text/plain": [
       "<bound method DataFrame.info of                                            clean_comment  category\n",
       "0       family mormon have never tried explain them t...         1\n",
       "1      buddhism has very much lot compatible with chr...         1\n",
       "2      seriously don say thing first all they won get...        -1\n",
       "3      what you have learned yours and only yours wha...         0\n",
       "4      for your own benefit you may want read living ...         1\n",
       "...                                                  ...       ...\n",
       "37244                                              jesus         0\n",
       "37245  kya bhai pure saal chutiya banaya modi aur jab...         1\n",
       "37246              downvote karna tha par upvote hogaya          0\n",
       "37247                                         haha nice          1\n",
       "37248             facebook itself now working bjp’ cell          0\n",
       "\n",
       "[37249 rows x 2 columns]>"
      ]
     },
     "execution_count": 3,
     "metadata": {},
     "output_type": "execute_result"
    }
   ],
   "source": [
    "red.info"
   ]
  },
  {
   "cell_type": "code",
   "execution_count": 4,
   "metadata": {},
   "outputs": [
    {
     "data": {
      "text/html": [
       "<div>\n",
       "<style scoped>\n",
       "    .dataframe tbody tr th:only-of-type {\n",
       "        vertical-align: middle;\n",
       "    }\n",
       "\n",
       "    .dataframe tbody tr th {\n",
       "        vertical-align: top;\n",
       "    }\n",
       "\n",
       "    .dataframe thead th {\n",
       "        text-align: right;\n",
       "    }\n",
       "</style>\n",
       "<table border=\"1\" class=\"dataframe\">\n",
       "  <thead>\n",
       "    <tr style=\"text-align: right;\">\n",
       "      <th></th>\n",
       "      <th>count</th>\n",
       "      <th>%</th>\n",
       "    </tr>\n",
       "  </thead>\n",
       "  <tbody>\n",
       "    <tr>\n",
       "      <th>category</th>\n",
       "      <td>0</td>\n",
       "      <td>0.000000</td>\n",
       "    </tr>\n",
       "    <tr>\n",
       "      <th>clean_comment</th>\n",
       "      <td>100</td>\n",
       "      <td>0.268464</td>\n",
       "    </tr>\n",
       "  </tbody>\n",
       "</table>\n",
       "</div>"
      ],
      "text/plain": [
       "               count         %\n",
       "category           0  0.000000\n",
       "clean_comment    100  0.268464"
      ]
     },
     "execution_count": 4,
     "metadata": {},
     "output_type": "execute_result"
    }
   ],
   "source": [
    "# number of missing values by column\n",
    "missing = pd.concat([red.isnull().sum(), 100 * red.isnull().mean()], axis=1)\n",
    "missing.columns=['count', '%']\n",
    "missing.sort_values(by='count')"
   ]
  },
  {
   "cell_type": "code",
   "execution_count": null,
   "metadata": {},
   "outputs": [],
   "source": [
    "# So we have 100 empty values for the comment column. Good to know.\n"
   ]
  }
 ],
 "metadata": {
  "kernelspec": {
   "display_name": "Python 3",
   "language": "python",
   "name": "python3"
  },
  "language_info": {
   "codemirror_mode": {
    "name": "ipython",
    "version": 3
   },
   "file_extension": ".py",
   "mimetype": "text/x-python",
   "name": "python",
   "nbconvert_exporter": "python",
   "pygments_lexer": "ipython3",
   "version": "3.8.5"
  }
 },
 "nbformat": 4,
 "nbformat_minor": 4
}
