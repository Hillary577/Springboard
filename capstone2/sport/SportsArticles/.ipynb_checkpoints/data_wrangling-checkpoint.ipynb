{
 "cells": [
  {
   "cell_type": "code",
   "execution_count": 7,
   "metadata": {},
   "outputs": [],
   "source": [
    "## Imports\n",
    "import pandas as pd\n",
    "import numpy as np\n",
    "import os\n",
    "import pickle\n",
    "import matplotlib.pyplot as plt\n",
    "import seaborn as sns\n",
    "from sklearn import __version__ as sklearn_version\n",
    "from sklearn.decomposition import PCA\n",
    "from sklearn.preprocessing import scale\n",
    "from sklearn.model_selection import train_test_split, cross_validate, GridSearchCV, learning_curve\n",
    "from sklearn.preprocessing import StandardScaler, MinMaxScaler\n",
    "from sklearn.dummy import DummyRegressor\n",
    "from sklearn.linear_model import LinearRegression\n",
    "from sklearn.ensemble import RandomForestRegressor\n",
    "from sklearn.metrics import r2_score, mean_squared_error, mean_absolute_error\n",
    "from sklearn.pipeline import make_pipeline\n",
    "from sklearn.impute import SimpleImputer\n",
    "from sklearn.feature_selection import SelectKBest, f_regression\n",
    "import datetime\n",
    "\n",
    "from library.sb_utils import save_file"
   ]
  },
  {
   "cell_type": "code",
   "execution_count": 10,
   "metadata": {},
   "outputs": [],
   "source": [
    "df = pd.DataFrame(pd.read_excel(\"features.xlsx\"))"
   ]
  },
  {
   "cell_type": "code",
   "execution_count": 11,
   "metadata": {},
   "outputs": [
    {
     "name": "stdout",
     "output_type": "stream",
     "text": [
      "<class 'pandas.core.frame.DataFrame'>\n",
      "RangeIndex: 1000 entries, 0 to 999\n",
      "Data columns (total 62 columns):\n",
      " #   Column             Non-Null Count  Dtype \n",
      "---  ------             --------------  ----- \n",
      " 0   TextID             1000 non-null   object\n",
      " 1   URL                1000 non-null   object\n",
      " 2   Label              1000 non-null   object\n",
      " 3   totalWordsCount    1000 non-null   int64 \n",
      " 4   semanticobjscore   1000 non-null   int64 \n",
      " 5   semanticsubjscore  1000 non-null   int64 \n",
      " 6   CC                 1000 non-null   int64 \n",
      " 7   CD                 1000 non-null   int64 \n",
      " 8   DT                 1000 non-null   int64 \n",
      " 9   EX                 1000 non-null   int64 \n",
      " 10  FW                 1000 non-null   int64 \n",
      " 11  INs                1000 non-null   int64 \n",
      " 12  JJ                 1000 non-null   int64 \n",
      " 13  JJR                1000 non-null   int64 \n",
      " 14  JJS                1000 non-null   int64 \n",
      " 15  LS                 1000 non-null   int64 \n",
      " 16  MD                 1000 non-null   int64 \n",
      " 17  NN                 1000 non-null   int64 \n",
      " 18  NNP                1000 non-null   int64 \n",
      " 19  NNPS               1000 non-null   int64 \n",
      " 20  NNS                1000 non-null   int64 \n",
      " 21  PDT                1000 non-null   int64 \n",
      " 22  POS                1000 non-null   int64 \n",
      " 23  PRP                1000 non-null   int64 \n",
      " 24  PRP$               1000 non-null   int64 \n",
      " 25  RB                 1000 non-null   int64 \n",
      " 26  RBR                1000 non-null   int64 \n",
      " 27  RBS                1000 non-null   int64 \n",
      " 28  RP                 1000 non-null   int64 \n",
      " 29  SYM                1000 non-null   int64 \n",
      " 30  TOs                1000 non-null   int64 \n",
      " 31  UH                 1000 non-null   int64 \n",
      " 32  VB                 1000 non-null   int64 \n",
      " 33  VBD                1000 non-null   int64 \n",
      " 34  VBG                1000 non-null   int64 \n",
      " 35  VBN                1000 non-null   int64 \n",
      " 36  VBP                1000 non-null   int64 \n",
      " 37  VBZ                1000 non-null   int64 \n",
      " 38  WDT                1000 non-null   int64 \n",
      " 39  WP                 1000 non-null   int64 \n",
      " 40  WP$                1000 non-null   int64 \n",
      " 41  WRB                1000 non-null   int64 \n",
      " 42  baseform           1000 non-null   int64 \n",
      " 43  Quotes             1000 non-null   int64 \n",
      " 44  questionmarks      1000 non-null   int64 \n",
      " 45  exclamationmarks   1000 non-null   int64 \n",
      " 46  fullstops          1000 non-null   int64 \n",
      " 47  commas             1000 non-null   int64 \n",
      " 48  semicolon          1000 non-null   int64 \n",
      " 49  colon              1000 non-null   int64 \n",
      " 50  ellipsis           1000 non-null   int64 \n",
      " 51  pronouns1st        1000 non-null   int64 \n",
      " 52  pronouns2nd        1000 non-null   int64 \n",
      " 53  pronouns3rd        1000 non-null   int64 \n",
      " 54  compsupadjadv      1000 non-null   int64 \n",
      " 55  past               1000 non-null   int64 \n",
      " 56  imperative         1000 non-null   int64 \n",
      " 57  present3rd         1000 non-null   int64 \n",
      " 58  present1st2nd      1000 non-null   int64 \n",
      " 59  sentence1st        1000 non-null   int64 \n",
      " 60  sentencelast       1000 non-null   int64 \n",
      " 61  txtcomplexity      1000 non-null   int64 \n",
      "dtypes: int64(59), object(3)\n",
      "memory usage: 484.5+ KB\n"
     ]
    }
   ],
   "source": [
    "df.info()"
   ]
  },
  {
   "cell_type": "code",
   "execution_count": null,
   "metadata": {},
   "outputs": [],
   "source": []
  },
  {
   "cell_type": "code",
   "execution_count": null,
   "metadata": {},
   "outputs": [],
   "source": []
  },
  {
   "cell_type": "code",
   "execution_count": null,
   "metadata": {},
   "outputs": [],
   "source": []
  },
  {
   "cell_type": "code",
   "execution_count": null,
   "metadata": {},
   "outputs": [],
   "source": []
  },
  {
   "cell_type": "code",
   "execution_count": null,
   "metadata": {},
   "outputs": [],
   "source": []
  }
 ],
 "metadata": {
  "kernelspec": {
   "display_name": "Python 3",
   "language": "python",
   "name": "python3"
  },
  "language_info": {
   "codemirror_mode": {
    "name": "ipython",
    "version": 3
   },
   "file_extension": ".py",
   "mimetype": "text/x-python",
   "name": "python",
   "nbconvert_exporter": "python",
   "pygments_lexer": "ipython3",
   "version": "3.8.5"
  }
 },
 "nbformat": 4,
 "nbformat_minor": 4
}
